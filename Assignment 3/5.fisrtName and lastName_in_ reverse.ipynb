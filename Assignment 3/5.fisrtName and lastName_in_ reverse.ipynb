{
 "cells": [
  {
   "cell_type": "code",
   "execution_count": null,
   "id": "bf73f7be",
   "metadata": {},
   "outputs": [],
   "source": [
    "# Question No:05\n",
    "firstName = input(\"Please Enter Your First Name\")\n",
    "lastName  = input(\"Please Enter Your Last Name\")\n",
    "print(\"firstName and lastnName in reverse order: \" ) \n",
    "print (firstName[::-1] + \" \" + lastName[::-1]) # Using slicing method that steps backword -1"
   ]
  },
  {
   "cell_type": "code",
   "execution_count": null,
   "id": "442c3e2c",
   "metadata": {},
   "outputs": [],
   "source": []
  }
 ],
 "metadata": {
  "kernelspec": {
   "display_name": "Python 3",
   "language": "python",
   "name": "python3"
  },
  "language_info": {
   "codemirror_mode": {
    "name": "ipython",
    "version": 3
   },
   "file_extension": ".py",
   "mimetype": "text/x-python",
   "name": "python",
   "nbconvert_exporter": "python",
   "pygments_lexer": "ipython3",
   "version": "3.8.8"
  }
 },
 "nbformat": 4,
 "nbformat_minor": 5
}
