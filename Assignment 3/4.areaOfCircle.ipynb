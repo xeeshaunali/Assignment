{
 "cells": [
  {
   "cell_type": "code",
   "execution_count": 1,
   "id": "2068373b",
   "metadata": {},
   "outputs": [
    {
     "name": "stdout",
     "output_type": "stream",
     "text": [
      "Please Enter Radius of Circle10\n",
      "314.15926535\n"
     ]
    }
   ],
   "source": [
    "# Question No:04\n",
    "radius = int(input(\"Please Enter Radius of Circle\"))\n",
    "areaOfCircle = 3.1415926535 * (radius**2)\n",
    "print (areaOfCircle);"
   ]
  },
  {
   "cell_type": "code",
   "execution_count": null,
   "id": "9b5b1fb1",
   "metadata": {},
   "outputs": [],
   "source": []
  }
 ],
 "metadata": {
  "kernelspec": {
   "display_name": "Python 3",
   "language": "python",
   "name": "python3"
  },
  "language_info": {
   "codemirror_mode": {
    "name": "ipython",
    "version": 3
   },
   "file_extension": ".py",
   "mimetype": "text/x-python",
   "name": "python",
   "nbconvert_exporter": "python",
   "pygments_lexer": "ipython3",
   "version": "3.8.8"
  }
 },
 "nbformat": 4,
 "nbformat_minor": 5
}
