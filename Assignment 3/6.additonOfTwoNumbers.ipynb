{
 "cells": [
  {
   "cell_type": "code",
   "execution_count": 2,
   "id": "9831eca2",
   "metadata": {},
   "outputs": [
    {
     "name": "stdout",
     "output_type": "stream",
     "text": [
      "Please Enter Number1\n",
      "1\n",
      "Please Enter Number2\n",
      "1\n",
      "The Addition of num1 and num2 is: \n",
      "2\n"
     ]
    }
   ],
   "source": [
    "# Question No:06\n",
    "num1 = int(input(\"Please Enter Number1\\n\"))\n",
    "num2 = int(input(\"Please Enter Number2\\n\"))\n",
    "num3 = num1 + num2\n",
    "print (\"The Addition of num1 and num2 is: \")\n",
    "print(num3)"
   ]
  },
  {
   "cell_type": "code",
   "execution_count": null,
   "id": "2d1e5cca",
   "metadata": {},
   "outputs": [],
   "source": []
  }
 ],
 "metadata": {
  "kernelspec": {
   "display_name": "Python 3",
   "language": "python",
   "name": "python3"
  },
  "language_info": {
   "codemirror_mode": {
    "name": "ipython",
    "version": 3
   },
   "file_extension": ".py",
   "mimetype": "text/x-python",
   "name": "python",
   "nbconvert_exporter": "python",
   "pygments_lexer": "ipython3",
   "version": "3.8.8"
  }
 },
 "nbformat": 4,
 "nbformat_minor": 5
}
