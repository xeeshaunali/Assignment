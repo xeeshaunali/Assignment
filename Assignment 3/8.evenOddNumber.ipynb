{
 "cells": [
  {
   "cell_type": "code",
   "execution_count": 1,
   "id": "7af0a5b7",
   "metadata": {},
   "outputs": [
    {
     "name": "stdout",
     "output_type": "stream",
     "text": [
      "Please Enter Your Number3\n",
      "3\n",
      "Number is Odd\n"
     ]
    }
   ],
   "source": [
    "# Question No:08\n",
    "num1 = int(input(\"Please Enter Your Number\"))\n",
    "print(num1)\n",
    "\n",
    "if num1%2 == 0:\n",
    "    print(\"Number is Even\")\n",
    "else:\n",
    "    print(\"Number is Odd\")"
   ]
  },
  {
   "cell_type": "code",
   "execution_count": 2,
   "id": "9bca4fa6",
   "metadata": {},
   "outputs": [
    {
     "name": "stdout",
     "output_type": "stream",
     "text": [
      "Please Enter Your Number20\n",
      "20\n",
      "Number is Even\n"
     ]
    }
   ],
   "source": [
    "num1 = int(input(\"Please Enter Your Number\"))\n",
    "print(num1)\n",
    "\n",
    "if num1%2 == 0:\n",
    "    print(\"Number is Even\")\n",
    "else:\n",
    "    print(\"Number is Odd\")    "
   ]
  },
  {
   "cell_type": "code",
   "execution_count": null,
   "id": "422ceb40",
   "metadata": {},
   "outputs": [],
   "source": []
  }
 ],
 "metadata": {
  "kernelspec": {
   "display_name": "Python 3",
   "language": "python",
   "name": "python3"
  },
  "language_info": {
   "codemirror_mode": {
    "name": "ipython",
    "version": 3
   },
   "file_extension": ".py",
   "mimetype": "text/x-python",
   "name": "python",
   "nbconvert_exporter": "python",
   "pygments_lexer": "ipython3",
   "version": "3.8.8"
  }
 },
 "nbformat": 4,
 "nbformat_minor": 5
}
