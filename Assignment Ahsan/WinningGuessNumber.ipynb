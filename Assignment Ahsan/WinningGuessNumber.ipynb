{
 "cells": [
  {
   "cell_type": "code",
   "execution_count": 13,
   "id": "3630a61d",
   "metadata": {},
   "outputs": [
    {
     "name": "stdout",
     "output_type": "stream",
     "text": [
      "Please enter your number1000\n",
      "Too HIGH\n"
     ]
    }
   ],
   "source": [
    "winning_number = 786\n",
    "guess_number = int(input(\"Please enter your number\"))\n",
    "\n",
    "if guess_number == winning_number:\n",
    "    print(\"You have guessed correct number\")\n",
    "elif guess_number < winning_number:\n",
    "    print(\"Too LOW\")\n",
    "elif guess_number > winning_number:\n",
    "    print(\"Too HIGH\")\n",
    "\n",
    "    "
   ]
  },
  {
   "cell_type": "code",
   "execution_count": null,
   "id": "b0ba2ff2",
   "metadata": {},
   "outputs": [],
   "source": []
  },
  {
   "cell_type": "code",
   "execution_count": null,
   "id": "ffadea0a",
   "metadata": {},
   "outputs": [],
   "source": []
  }
 ],
 "metadata": {
  "kernelspec": {
   "display_name": "Python 3",
   "language": "python",
   "name": "python3"
  },
  "language_info": {
   "codemirror_mode": {
    "name": "ipython",
    "version": 3
   },
   "file_extension": ".py",
   "mimetype": "text/x-python",
   "name": "python",
   "nbconvert_exporter": "python",
   "pygments_lexer": "ipython3",
   "version": "3.8.8"
  }
 },
 "nbformat": 4,
 "nbformat_minor": 5
}
