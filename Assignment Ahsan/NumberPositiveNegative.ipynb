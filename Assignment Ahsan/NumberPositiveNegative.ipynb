{
 "cells": [
  {
   "cell_type": "code",
   "execution_count": 10,
   "id": "67fab356",
   "metadata": {},
   "outputs": [
    {
     "name": "stdout",
     "output_type": "stream",
     "text": [
      "Please Enter Your Number0\n",
      "0 Number is Zero\n"
     ]
    }
   ],
   "source": [
    "num = int(input(\"Please Enter Your Number\"))\n",
    "if num <=-1:\n",
    "        print(num, \"The Number is Negative\")\n",
    "        \n",
    "elif num==0:\n",
    "        print(num, \"Number is Zero\")\n",
    "else:\n",
    "        print(num, \"Number is Positive\")\n"
   ]
  },
  {
   "cell_type": "code",
   "execution_count": null,
   "id": "f2605ff3",
   "metadata": {},
   "outputs": [],
   "source": []
  },
  {
   "cell_type": "code",
   "execution_count": null,
   "id": "323ecfe6",
   "metadata": {},
   "outputs": [],
   "source": [
    "-1"
   ]
  }
 ],
 "metadata": {
  "kernelspec": {
   "display_name": "Python 3",
   "language": "python",
   "name": "python3"
  },
  "language_info": {
   "codemirror_mode": {
    "name": "ipython",
    "version": 3
   },
   "file_extension": ".py",
   "mimetype": "text/x-python",
   "name": "python",
   "nbconvert_exporter": "python",
   "pygments_lexer": "ipython3",
   "version": "3.8.8"
  }
 },
 "nbformat": 4,
 "nbformat_minor": 5
}
