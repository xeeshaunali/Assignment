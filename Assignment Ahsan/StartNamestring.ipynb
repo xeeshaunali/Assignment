{
 "cells": [
  {
   "cell_type": "code",
   "execution_count": 30,
   "id": "7c173c54",
   "metadata": {},
   "outputs": [
    {
     "name": "stdout",
     "output_type": "stream",
     "text": [
      "Please Enter Your NameAli\n",
      "Please Enter Your Age11\n",
      "You can watch movies\n"
     ]
    }
   ],
   "source": [
    "name = input(\"Please Enter Your Name\")\n",
    "age = int(input(\"Please Enter Your Age\"))\n",
    "\n",
    "if (name.startswith(\"a\") or name.startswith(\"A\")) and age > 10:\n",
    "    print(\"You can watch movies\")\n",
    "else:\n",
    "    print(\"Sorry, You cannot watch movies \\nGo study\")\n"
   ]
  },
  {
   "cell_type": "code",
   "execution_count": null,
   "id": "17cc0eb7",
   "metadata": {},
   "outputs": [],
   "source": []
  },
  {
   "cell_type": "code",
   "execution_count": null,
   "id": "d980a706",
   "metadata": {},
   "outputs": [],
   "source": []
  }
 ],
 "metadata": {
  "kernelspec": {
   "display_name": "Python 3",
   "language": "python",
   "name": "python3"
  },
  "language_info": {
   "codemirror_mode": {
    "name": "ipython",
    "version": 3
   },
   "file_extension": ".py",
   "mimetype": "text/x-python",
   "name": "python",
   "nbconvert_exporter": "python",
   "pygments_lexer": "ipython3",
   "version": "3.8.8"
  }
 },
 "nbformat": 4,
 "nbformat_minor": 5
}
